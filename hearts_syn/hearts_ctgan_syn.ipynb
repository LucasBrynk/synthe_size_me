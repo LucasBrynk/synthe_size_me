{
 "cells": [
  {
   "cell_type": "markdown",
   "metadata": {},
   "source": [
    "# heart_disease ctgan stacking"
   ]
  },
  {
   "cell_type": "markdown",
   "metadata": {},
   "source": [
    "Training on heart_disease dataset using ctgan model and stacking data"
   ]
  },
  {
   "cell_type": "code",
   "execution_count": 1,
   "metadata": {},
   "outputs": [
    {
     "name": "stderr",
     "output_type": "stream",
     "text": [
      "c:\\Users\\Qurri\\AppData\\Local\\Programs\\Python\\Python310\\lib\\site-packages\\tqdm\\auto.py:21: TqdmWarning: IProgress not found. Please update jupyter and ipywidgets. See https://ipywidgets.readthedocs.io/en/stable/user_install.html\n",
      "  from .autonotebook import tqdm as notebook_tqdm\n"
     ]
    },
    {
     "name": "stdout",
     "output_type": "stream",
     "text": [
      "[KeOps] Warning : \n",
      "    The default C++ compiler could not be found on your system.\n",
      "    You need to either define the CXX environment variable or a symlink to the g++ command.\n",
      "    For example if g++-8 is the command you can do\n",
      "      import os\n",
      "      os.environ['CXX'] = 'g++-8'\n",
      "    \n",
      "[KeOps] Warning : Cuda libraries were not detected on the system or could not be loaded ; using cpu only mode\n"
     ]
    }
   ],
   "source": [
    "# Imports\n",
    "\n",
    "from synthesizers import Load\n",
    "\n",
    "from sklearn.model_selection import train_test_split\n",
    "\n",
    "import matplotlib.pyplot as plt\n",
    "import pandas as pd\n"
   ]
  },
  {
   "cell_type": "markdown",
   "metadata": {},
   "source": [
    "Declaring real dataset and splitting into train/test"
   ]
  },
  {
   "cell_type": "code",
   "execution_count": 32,
   "metadata": {},
   "outputs": [],
   "source": [
    "# Read hearts data\n",
    "hearts_real = pd.read_csv(\"Data\\hearts_data.csv\")\n",
    "hearts_real = hearts_real.dropna()\n",
    "gen_method = \"ctgan\"\n",
    "target = \"target\""
   ]
  },
  {
   "cell_type": "code",
   "execution_count": 33,
   "metadata": {},
   "outputs": [],
   "source": [
    "# Split hearts data into 80/20 train and test\n",
    "hearts_train, hearts_test = train_test_split(hearts_real, test_size=0.2, random_state=42)\n",
    "\n",
    "# Save to csv\n",
    "hearts_train.to_csv(\"Data\\hearts_train.csv\", index=False)\n",
    "hearts_test.to_csv(\"Data\\hearts_test.csv\", index=False)"
   ]
  },
  {
   "cell_type": "markdown",
   "metadata": {},
   "source": [
    "# syn_v1"
   ]
  },
  {
   "cell_type": "code",
   "execution_count": 12,
   "metadata": {},
   "outputs": [
    {
     "name": "stderr",
     "output_type": "stream",
     "text": [
      "[2024-05-06T11:00:40.433953+0200][10072][CRITICAL] module disabled: c:\\Users\\Qurri\\AppData\\Local\\Programs\\Python\\Python310\\lib\\site-packages\\synthcity\\plugins\\generic\\plugin_goggle.py\n",
      " 60%|█████▉    | 1199/2000 [04:48<03:12,  4.16it/s]\n"
     ]
    },
    {
     "data": {
      "text/plain": [
       "[{'train':       age  sex  chest pain type  resting bp s  cholesterol  \\\n",
       "1005   63    1                4           130          330   \n",
       "224    33    1                3           120          298   \n",
       "798    56    0                4           134          409   \n",
       "816    77    1                4           125          304   \n",
       "427    56    1                2           126          166   \n",
       "...   ...  ...              ...           ...          ...   \n",
       "1044   58    1                4           125          300   \n",
       "1095   55    1                2           130          262   \n",
       "1130   61    1                1           134          234   \n",
       "860    62    0                4           140          268   \n",
       "1126   42    1                2           120          295   \n",
       "\n",
       "      fasting blood sugar  resting ecg  max heart rate  exercise angina  \\\n",
       "1005                    1            2             132                1   \n",
       "224                     0            0             185                0   \n",
       "798                     0            2             150                1   \n",
       "816                     0            2             162                1   \n",
       "427                     0            1             140                0   \n",
       "...                   ...          ...             ...              ...   \n",
       "1044                    0            2             171                0   \n",
       "1095                    0            0             155                0   \n",
       "1130                    0            0             145                0   \n",
       "860                     0            2             160                0   \n",
       "1126                    0            0             162                0   \n",
       "\n",
       "      oldpeak  ST slope  target  \n",
       "1005      1.8         1       1  \n",
       "224       0.0         1       0  \n",
       "798       1.9         2       1  \n",
       "816       0.0         1       1  \n",
       "427       0.0         1       0  \n",
       "...       ...       ...     ...  \n",
       "1044      0.0         1       1  \n",
       "1095      0.0         1       0  \n",
       "1130      2.6         2       1  \n",
       "860       3.6         3       1  \n",
       "1126      0.0         1       0  \n",
       "\n",
       "[952 rows x 12 columns], 'test': None, 'synth':       age  sex  chest pain type  resting bp s  cholesterol  \\\n",
       "0      48    1                4           121          224   \n",
       "1      51    1                4           124          306   \n",
       "2      62    0                4           138          234   \n",
       "3      57    1                4           130          279   \n",
       "4      57    1                2           143          257   \n",
       "...   ...  ...              ...           ...          ...   \n",
       "1185   36    1                3           119           14   \n",
       "1186   45    0                4           109          250   \n",
       "1187   54    1                2           130          195   \n",
       "1188   59    1                4           121          328   \n",
       "1189   66    1                4           123           11   \n",
       "\n",
       "      fasting blood sugar  resting ecg  max heart rate  exercise angina  \\\n",
       "0                       0            2             164                0   \n",
       "1                       1            0             157                0   \n",
       "2                       1            2             127                1   \n",
       "3                       1            0             118                0   \n",
       "4                       0            0             172                0   \n",
       "...                   ...          ...             ...              ...   \n",
       "1185                    0            0             166                0   \n",
       "1186                    1            0             168                0   \n",
       "1187                    0            0             127                0   \n",
       "1188                    0            0             160                1   \n",
       "1189                    0            1             110                1   \n",
       "\n",
       "       oldpeak  ST slope  target  \n",
       "0     0.049649         1       1  \n",
       "1     0.042936         2       1  \n",
       "2     2.209760         2       0  \n",
       "3     1.749734         2       1  \n",
       "4     0.111166         1       0  \n",
       "...        ...       ...     ...  \n",
       "1185  0.804647         1       0  \n",
       "1186  0.890733         2       1  \n",
       "1187  0.015974         1       0  \n",
       "1188  2.123427         3       1  \n",
       "1189  1.409783         1       0  \n",
       "\n",
       "[1190 rows x 12 columns], 'model': SynthCityModel(<synthcity.plugins.generic.plugin_ctgan.CTGANPlugin object at 0x0000024AAD05D6F0>), 'eval': None}]"
      ]
     },
     "execution_count": 12,
     "metadata": {},
     "output_type": "execute_result"
    }
   ],
   "source": [
    "# Synthesize data\n",
    "gen_count = hearts_real.shape[0]\n",
    "\n",
    "Load(hearts_train).Train(plugin=gen_method).Generate(count=gen_count).Save(name=f\"{gen_method}\\hearts_syn_v1.csv\", key=\"synth\")"
   ]
  },
  {
   "cell_type": "markdown",
   "metadata": {},
   "source": [
    "# syn_v2"
   ]
  },
  {
   "cell_type": "code",
   "execution_count": 15,
   "metadata": {},
   "outputs": [],
   "source": [
    "# Read synthesized data\n",
    "hearts_syn = pd.read_csv(f\"{gen_method}\\hearts_syn_v1.csv\").round(1)\n",
    "\n",
    "# Remove first column\n",
    "hearts_syn = hearts_syn.drop(hearts_syn.columns[0], axis=1)\n",
    "\n",
    "# Concatenate synthesized data with real data\n",
    "hearts_stack = pd.concat([hearts_real, hearts_syn], ignore_index=True)\n",
    "\n",
    "# Save to csv\n",
    "hearts_stack.to_csv(f\"{gen_method}\\hearts_stack_v1.csv\", index=False)\n",
    "\n",
    "# Split synthesized data into 80/20 train and test\n",
    "hearts_train, hearts_test = train_test_split(hearts_stack, test_size=0.2, random_state=42)\n",
    "\n",
    "# Save to csv\n",
    "hearts_train.to_csv(f\"{gen_method}\\hearts_stack_v1_train.csv\", index=False)\n",
    "hearts_test.to_csv(f\"{gen_method}\\hearts_stack_v1_test.csv\", index=False)\n"
   ]
  },
  {
   "cell_type": "code",
   "execution_count": 17,
   "metadata": {},
   "outputs": [
    {
     "name": "stderr",
     "output_type": "stream",
     "text": [
      "[2024-05-06T11:21:10.575194+0200][10072][CRITICAL] module disabled: c:\\Users\\Qurri\\AppData\\Local\\Programs\\Python\\Python310\\lib\\site-packages\\synthcity\\plugins\\generic\\plugin_goggle.py\n",
      " 30%|██▉       | 599/2000 [05:03<11:50,  1.97it/s]\n"
     ]
    },
    {
     "data": {
      "text/plain": [
       "[{'train':       age  sex  chest pain type  resting bp s  cholesterol  \\\n",
       "2121   38    1                3           120          212   \n",
       "457    61    1                3           120            0   \n",
       "1738   58    1                4           144          312   \n",
       "883    44    1                2           120          263   \n",
       "2279   52    1                2           135          261   \n",
       "...   ...  ...              ...           ...          ...   \n",
       "1638   49    0                4           121          252   \n",
       "1095   55    1                2           130          262   \n",
       "1130   61    1                1           134          234   \n",
       "1294   34    1                3           124          228   \n",
       "860    62    0                4           140          268   \n",
       "\n",
       "      fasting blood sugar  resting ecg  max heart rate  exercise angina  \\\n",
       "2121                    0            0             169                0   \n",
       "457                     0            0              80                1   \n",
       "1738                    1            2             126                1   \n",
       "883                     0            0             173                0   \n",
       "2279                    0            0             158                0   \n",
       "...                   ...          ...             ...              ...   \n",
       "1638                    0            2             118                1   \n",
       "1095                    0            0             155                0   \n",
       "1130                    0            0             145                0   \n",
       "1294                    0            0             171                0   \n",
       "860                     0            2             160                0   \n",
       "\n",
       "      oldpeak  ST slope  target  \n",
       "2121      0.1         1       0  \n",
       "457       0.0         2       1  \n",
       "1738      0.9         2       1  \n",
       "883       0.0         1       0  \n",
       "2279      0.0         2       0  \n",
       "...       ...       ...     ...  \n",
       "1638      1.4         1       1  \n",
       "1095      0.0         1       0  \n",
       "1130      2.6         2       1  \n",
       "1294      0.1         2       1  \n",
       "860       3.6         3       1  \n",
       "\n",
       "[1904 rows x 12 columns], 'test': None, 'synth':       age  sex  chest pain type  resting bp s  cholesterol  \\\n",
       "0      46    1                3           140          279   \n",
       "1      41    1                4           130          207   \n",
       "2      59    1                4           141          270   \n",
       "3      60    0                4           126          171   \n",
       "4      43    0                4           129          277   \n",
       "...   ...  ...              ...           ...          ...   \n",
       "2375   40    1                3           129          217   \n",
       "2376   62    1                3           121          166   \n",
       "2377   66    1                3           138          222   \n",
       "2378   53    1                4           140          151   \n",
       "2379   63    1                2           130            0   \n",
       "\n",
       "      fasting blood sugar  resting ecg  max heart rate  exercise angina  \\\n",
       "0                       0            0             170                1   \n",
       "1                       0            0             176                0   \n",
       "2                       1            0             124                0   \n",
       "3                       0            0             174                0   \n",
       "4                       0            0             112                1   \n",
       "...                   ...          ...             ...              ...   \n",
       "2375                    0            0             166                0   \n",
       "2376                    0            1             144                0   \n",
       "2377                    1            2             116                1   \n",
       "2378                    0            2             130                0   \n",
       "2379                    1            1             118                0   \n",
       "\n",
       "       oldpeak  ST slope  target  \n",
       "0     0.091076         2       0  \n",
       "1     0.844261         1       0  \n",
       "2     2.708248         2       1  \n",
       "3    -0.037946         1       0  \n",
       "4     1.361440         1       1  \n",
       "...        ...       ...     ...  \n",
       "2375 -0.048316         2       0  \n",
       "2376 -0.041356         1       0  \n",
       "2377  2.025985         2       0  \n",
       "2378  2.361307         3       1  \n",
       "2379 -0.005053         1       0  \n",
       "\n",
       "[2380 rows x 12 columns], 'model': SynthCityModel(<synthcity.plugins.generic.plugin_ctgan.CTGANPlugin object at 0x0000024AAD05CD90>), 'eval': None}]"
      ]
     },
     "execution_count": 17,
     "metadata": {},
     "output_type": "execute_result"
    }
   ],
   "source": [
    "# Synthesize data\n",
    "gen_count = hearts_stack.shape[0]\n",
    "\n",
    "Load(hearts_train).Train(plugin=gen_method).Generate(count=gen_count).Save(name=f\"{gen_method}\\hearts_syn_v2.csv\", key=\"synth\")"
   ]
  },
  {
   "cell_type": "markdown",
   "metadata": {},
   "source": [
    "# syn_v3"
   ]
  },
  {
   "cell_type": "code",
   "execution_count": 18,
   "metadata": {},
   "outputs": [],
   "source": [
    "# Read synthesized data\n",
    "hearts_syn = pd.read_csv(f\"{gen_method}\\hearts_syn_v2.csv\").round(1)\n",
    "\n",
    "# Remove first column\n",
    "hearts_syn = hearts_syn.drop(hearts_syn.columns[0], axis=1)\n",
    "\n",
    "# Concatenate synthesized data with stack data\n",
    "hearts_stack = pd.concat([hearts_stack, hearts_syn], ignore_index=True)\n",
    "\n",
    "# Save to csv\n",
    "hearts_stack.to_csv(f\"{gen_method}\\hearts_stack_v2.csv\", index=False)\n",
    "\n",
    "# Split synthesized data into 80/20 train and test\n",
    "hearts_train, hearts_test = train_test_split(hearts_stack, test_size=0.2, random_state=42)\n",
    "\n",
    "# Save to csv\n",
    "hearts_train.to_csv(f\"{gen_method}\\hearts_stack_v2_train.csv\", index=False)\n",
    "hearts_test.to_csv(f\"{gen_method}\\hearts_stack_v2_test.csv\", index=False)\n"
   ]
  },
  {
   "cell_type": "code",
   "execution_count": 19,
   "metadata": {},
   "outputs": [
    {
     "name": "stderr",
     "output_type": "stream",
     "text": [
      "[2024-05-06T11:26:15.478608+0200][10072][CRITICAL] module disabled: c:\\Users\\Qurri\\AppData\\Local\\Programs\\Python\\Python310\\lib\\site-packages\\synthcity\\plugins\\generic\\plugin_goggle.py\n",
      " 30%|██▉       | 599/2000 [16:08<37:44,  1.62s/it]  \n"
     ]
    },
    {
     "data": {
      "text/plain": [
       "[{'train':       age  sex  chest pain type  resting bp s  cholesterol  \\\n",
       "624    59    1                4           110          239   \n",
       "4522   58    1                3           129          266   \n",
       "4227   47    0                3           128          283   \n",
       "3135   51    0                3           110          182   \n",
       "1554   37    1                4           142          186   \n",
       "...   ...  ...              ...           ...          ...   \n",
       "4426   40    0                2            91          208   \n",
       "466    42    1                3           134          240   \n",
       "3092   42    1                4           131          202   \n",
       "3772   47    1                4           102          230   \n",
       "860    62    0                4           140          268   \n",
       "\n",
       "      fasting blood sugar  resting ecg  max heart rate  exercise angina  \\\n",
       "624                     0            2             142                1   \n",
       "4522                    1            0             130                0   \n",
       "4227                    0            0             172                0   \n",
       "3135                    0            0             124                0   \n",
       "1554                    1            0             133                1   \n",
       "...                   ...          ...             ...              ...   \n",
       "4426                    0            0             175                0   \n",
       "466                     0            0             160                0   \n",
       "3092                    0            2             173                0   \n",
       "3772                    0            1             128                0   \n",
       "860                     0            2             160                0   \n",
       "\n",
       "      oldpeak  ST slope  target  \n",
       "624       1.2         2       1  \n",
       "4522      0.5         2       0  \n",
       "4227     -0.0         1       0  \n",
       "3135     -0.0         2       1  \n",
       "1554      1.6         2       1  \n",
       "...       ...       ...     ...  \n",
       "4426     -0.1         1       0  \n",
       "466       0.0         1       0  \n",
       "3092     -0.0         1       0  \n",
       "3772      0.2         1       1  \n",
       "860       3.6         3       1  \n",
       "\n",
       "[3808 rows x 12 columns], 'test': None, 'synth':       age  sex  chest pain type  resting bp s  cholesterol  \\\n",
       "0      42    1                2           164          225   \n",
       "1      60    1                3           140            0   \n",
       "2      65    1                4           144          281   \n",
       "3      60    1                2           142          320   \n",
       "4      53    1                4           122          263   \n",
       "...   ...  ...              ...           ...          ...   \n",
       "4755   53    1                3           142          230   \n",
       "4756   55    1                4           140            0   \n",
       "4757   61    1                2           125          252   \n",
       "4758   52    1                4           107          202   \n",
       "4759   44    1                4           122          226   \n",
       "\n",
       "      fasting blood sugar  resting ecg  max heart rate  exercise angina  \\\n",
       "0                       0            0             176                0   \n",
       "1                       0            1             146                1   \n",
       "2                       0            2             125                1   \n",
       "3                       0            0             175                1   \n",
       "4                       1            2             169                1   \n",
       "...                   ...          ...             ...              ...   \n",
       "4755                    0            0             172                0   \n",
       "4756                    0            0             146                1   \n",
       "4757                    0            0             137                0   \n",
       "4758                    0            0             139                1   \n",
       "4759                    0            0             153                1   \n",
       "\n",
       "       oldpeak  ST slope  target  \n",
       "0    -0.077412         1       0  \n",
       "1     1.165033         2       1  \n",
       "2     1.260220         2       1  \n",
       "3     0.034015         1       0  \n",
       "4     1.424265         2       1  \n",
       "...        ...       ...     ...  \n",
       "4755  1.301165         2       1  \n",
       "4756  1.200416         2       1  \n",
       "4757 -0.015465         1       0  \n",
       "4758  3.163291         2       0  \n",
       "4759  2.489147         2       1  \n",
       "\n",
       "[4760 rows x 12 columns], 'model': SynthCityModel(<synthcity.plugins.generic.plugin_ctgan.CTGANPlugin object at 0x0000024AAD06E350>), 'eval': None}]"
      ]
     },
     "execution_count": 19,
     "metadata": {},
     "output_type": "execute_result"
    }
   ],
   "source": [
    "# Synthesize data\n",
    "gen_count = hearts_stack.shape[0]\n",
    "\n",
    "Load(hearts_train).Train(plugin=gen_method).Generate(count=gen_count).Save(name=f\"{gen_method}\\hearts_syn_v3.csv\", key=\"synth\")"
   ]
  },
  {
   "cell_type": "markdown",
   "metadata": {},
   "source": [
    "# syn_v4"
   ]
  },
  {
   "cell_type": "code",
   "execution_count": 20,
   "metadata": {},
   "outputs": [],
   "source": [
    "# Read synthesized data\n",
    "hearts_syn = pd.read_csv(f\"{gen_method}\\hearts_syn_v3.csv\").round(1)\n",
    "\n",
    "# Remove first column\n",
    "hearts_syn = hearts_syn.drop(hearts_syn.columns[0], axis=1)\n",
    "\n",
    "# Concatenate synthesized data with stack data\n",
    "hearts_stack = pd.concat([hearts_stack, hearts_syn], ignore_index=True)\n",
    "\n",
    "# Save to csv\n",
    "hearts_stack.to_csv(f\"{gen_method}\\hearts_stack_v3.csv\", index=False)\n",
    "\n",
    "# Split synthesized data into 80/20 train and test\n",
    "hearts_train, hearts_test = train_test_split(hearts_stack, test_size=0.2, random_state=42)\n",
    "\n",
    "# Save to csv\n",
    "hearts_train.to_csv(f\"{gen_method}\\hearts_stack_v3_train.csv\", index=False)\n",
    "hearts_test.to_csv(f\"{gen_method}\\hearts_stack_v3_test.csv\", index=False)"
   ]
  },
  {
   "cell_type": "code",
   "execution_count": 21,
   "metadata": {},
   "outputs": [
    {
     "name": "stderr",
     "output_type": "stream",
     "text": [
      "[2024-05-06T11:42:26.068286+0200][10072][CRITICAL] module disabled: c:\\Users\\Qurri\\AppData\\Local\\Programs\\Python\\Python310\\lib\\site-packages\\synthcity\\plugins\\generic\\plugin_goggle.py\n",
      " 20%|█▉        | 399/2000 [21:23<1:25:51,  3.22s/it]\n"
     ]
    },
    {
     "data": {
      "text/plain": [
       "[{'train':       age  sex  chest pain type  resting bp s  cholesterol  \\\n",
       "2484   61    1                4           180          240   \n",
       "3016   60    0                3           131          250   \n",
       "5292   38    0                4           121          265   \n",
       "7932   61    1                4           116          248   \n",
       "4734   64    1                4           121            1   \n",
       "...   ...  ...              ...           ...          ...   \n",
       "5734   45    1                4           167          235   \n",
       "5191   44    1                4           142          208   \n",
       "5390   63    1                1           157          224   \n",
       "860    62    0                4           140          268   \n",
       "7270   51    1                4           124          211   \n",
       "\n",
       "      fasting blood sugar  resting ecg  max heart rate  exercise angina  \\\n",
       "2484                    0            2             162                1   \n",
       "3016                    0            0             131                0   \n",
       "5292                    0            0             174                0   \n",
       "7932                    1            1             124                1   \n",
       "4734                    1            2             123                1   \n",
       "...                   ...          ...             ...              ...   \n",
       "5734                    0            0             176                0   \n",
       "5191                    0            0             130                1   \n",
       "5390                    1            2             118                1   \n",
       "860                     0            2             160                0   \n",
       "7270                    1            2             157                0   \n",
       "\n",
       "      oldpeak  ST slope  target  \n",
       "2484      2.5         3       1  \n",
       "3016      1.4         2       0  \n",
       "5292     -0.0         1       0  \n",
       "7932     -0.1         2       1  \n",
       "4734      1.2         3       1  \n",
       "...       ...       ...     ...  \n",
       "5734      1.2         2       0  \n",
       "5191      1.5         2       1  \n",
       "5390      1.3         3       0  \n",
       "860       3.6         3       1  \n",
       "7270      1.8         2       1  \n",
       "\n",
       "[7616 rows x 12 columns], 'test': None, 'synth':       age  sex  chest pain type  resting bp s  cholesterol  \\\n",
       "0      53    1                2           129            0   \n",
       "1      41    0                3           120          226   \n",
       "2      54    1                4           140            0   \n",
       "3      52    1                4           123          257   \n",
       "4      41    1                4           142          166   \n",
       "...   ...  ...              ...           ...          ...   \n",
       "9515   56    1                1           143          260   \n",
       "9516   62    1                4           122          320   \n",
       "9517   63    1                2           124          226   \n",
       "9518   62    1                2           124          260   \n",
       "9519   40    1                4           158          205   \n",
       "\n",
       "      fasting blood sugar  resting ecg  max heart rate  exercise angina  \\\n",
       "0                       0            0             125                1   \n",
       "1                       0            0             148                0   \n",
       "2                       1            1             125                1   \n",
       "3                       0            2             130                1   \n",
       "4                       0            2             172                1   \n",
       "...                   ...          ...             ...              ...   \n",
       "9515                    1            2             140                0   \n",
       "9516                    0            0             122                1   \n",
       "9517                    0            0             176                0   \n",
       "9518                    0            0             144                0   \n",
       "9519                    0            2             174                0   \n",
       "\n",
       "       oldpeak  ST slope  target  \n",
       "0    -0.094925         1       0  \n",
       "1    -0.139232         1       0  \n",
       "2    -0.182366         2       1  \n",
       "3     0.936095         2       1  \n",
       "4     0.566153         2       0  \n",
       "...        ...       ...     ...  \n",
       "9515 -0.018383         2       0  \n",
       "9516  2.212695         2       1  \n",
       "9517 -0.096720         1       0  \n",
       "9518 -0.132431         1       0  \n",
       "9519  2.972927         2       1  \n",
       "\n",
       "[9520 rows x 12 columns], 'model': SynthCityModel(<synthcity.plugins.generic.plugin_ctgan.CTGANPlugin object at 0x0000024AA6A7AEF0>), 'eval': None}]"
      ]
     },
     "execution_count": 21,
     "metadata": {},
     "output_type": "execute_result"
    }
   ],
   "source": [
    "# Synthesize data\n",
    "gen_count = hearts_stack.shape[0]\n",
    "\n",
    "Load(hearts_train).Train(plugin=gen_method).Generate(count=gen_count).Save(name=f\"{gen_method}\\hearts_syn_v4.csv\", key=\"synth\")"
   ]
  },
  {
   "cell_type": "markdown",
   "metadata": {},
   "source": [
    "# syn_v5"
   ]
  },
  {
   "cell_type": "code",
   "execution_count": 22,
   "metadata": {},
   "outputs": [],
   "source": [
    "# Read synthesized data\n",
    "hearts_syn = pd.read_csv(f\"{gen_method}\\hearts_syn_v4.csv\").round(1)\n",
    "\n",
    "# Remove first column\n",
    "hearts_syn = hearts_syn.drop(hearts_syn.columns[0], axis=1)\n",
    "\n",
    "# Concatenate synthesized data with stack data\n",
    "hearts_stack = pd.concat([hearts_stack, hearts_syn], ignore_index=True)\n",
    "\n",
    "# Save to csv\n",
    "hearts_stack.to_csv(f\"{gen_method}\\hearts_stack_v4.csv\", index=False)\n",
    "\n",
    "# Split synthesized data into 80/20 train and test\n",
    "hearts_train, hearts_test = train_test_split(hearts_stack, test_size=0.2, random_state=42)\n",
    "\n",
    "# Save to csv\n",
    "hearts_train.to_csv(f\"{gen_method}\\hearts_stack_v4_train.csv\", index=False)\n",
    "hearts_test.to_csv(f\"{gen_method}\\hearts_stack_v4_test.csv\", index=False)"
   ]
  },
  {
   "cell_type": "code",
   "execution_count": 23,
   "metadata": {},
   "outputs": [
    {
     "name": "stderr",
     "output_type": "stream",
     "text": [
      "[2024-05-06T12:03:53.814621+0200][10072][CRITICAL] module disabled: c:\\Users\\Qurri\\AppData\\Local\\Programs\\Python\\Python310\\lib\\site-packages\\synthcity\\plugins\\generic\\plugin_goggle.py\n",
      " 22%|██▏       | 449/2000 [1:02:18<3:35:13,  8.33s/it]\n"
     ]
    },
    {
     "data": {
      "text/plain": [
       "[{'train':        age  sex  chest pain type  resting bp s  cholesterol  \\\n",
       "2006    54    1                3           129            0   \n",
       "1288    39    1                3           121          245   \n",
       "18494   56    0                3           121          221   \n",
       "15527   57    0                2           109          218   \n",
       "12341   39    1                4           141          227   \n",
       "...    ...  ...              ...           ...          ...   \n",
       "11284   60    1                4           141          233   \n",
       "11964   60    1                4           131          232   \n",
       "5390    63    1                1           157          224   \n",
       "860     62    0                4           140          268   \n",
       "15795   61    0                3           109          221   \n",
       "\n",
       "       fasting blood sugar  resting ecg  max heart rate  exercise angina  \\\n",
       "2006                     1            0             128                0   \n",
       "1288                     0            0             151                0   \n",
       "18494                    0            2             173                0   \n",
       "15527                    0            0             177                0   \n",
       "12341                    0            2             174                0   \n",
       "...                    ...          ...             ...              ...   \n",
       "11284                    0            2             131                1   \n",
       "11964                    0            0             138                1   \n",
       "5390                     1            2             118                1   \n",
       "860                      0            2             160                0   \n",
       "15795                    0            0             129                0   \n",
       "\n",
       "       oldpeak  ST slope  target  \n",
       "2006       2.2         2       1  \n",
       "1288       0.0         1       0  \n",
       "18494      0.1         1       0  \n",
       "15527     -0.1         1       0  \n",
       "12341      1.2         1       0  \n",
       "...        ...       ...     ...  \n",
       "11284      1.0         1       0  \n",
       "11964      0.9         2       1  \n",
       "5390       1.3         3       0  \n",
       "860        3.6         3       1  \n",
       "15795     -0.1         2       0  \n",
       "\n",
       "[15232 rows x 12 columns], 'test': None, 'synth':        age  sex  chest pain type  resting bp s  cholesterol  \\\n",
       "0       51    1                4           119            0   \n",
       "1       51    1                2           106          248   \n",
       "2       53    1                4           152          248   \n",
       "3       40    1                2           129          180   \n",
       "4       62    0                3           156          205   \n",
       "...    ...  ...              ...           ...          ...   \n",
       "19035   51    1                4           123            0   \n",
       "19036   39    1                3           141          231   \n",
       "19037   59    1                4           139          227   \n",
       "19038   43    1                4           153          217   \n",
       "19039   51    1                4           140          251   \n",
       "\n",
       "       fasting blood sugar  resting ecg  max heart rate  exercise angina  \\\n",
       "0                        0            0             138                0   \n",
       "1                        1            1             120                1   \n",
       "2                        0            2             139                1   \n",
       "3                        0            0             123                0   \n",
       "4                        0            0             167                0   \n",
       "...                    ...          ...             ...              ...   \n",
       "19035                    0            2             144                1   \n",
       "19036                    0            0             177                1   \n",
       "19037                    0            1             123                1   \n",
       "19038                    0            0             142                1   \n",
       "19039                    0            2             160                0   \n",
       "\n",
       "        oldpeak  ST slope  target  \n",
       "0      0.853463         2       1  \n",
       "1     -0.027317         2       1  \n",
       "2     -0.094241         2       1  \n",
       "3      0.023304         2       1  \n",
       "4      0.930831         1       0  \n",
       "...         ...       ...     ...  \n",
       "19035 -0.001991         2       1  \n",
       "19036  1.025075         2       0  \n",
       "19037  0.784220         2       1  \n",
       "19038  0.882225         2       1  \n",
       "19039  0.857910         2       1  \n",
       "\n",
       "[19040 rows x 12 columns], 'model': SynthCityModel(<synthcity.plugins.generic.plugin_ctgan.CTGANPlugin object at 0x0000024AAD117F40>), 'eval': None}]"
      ]
     },
     "execution_count": 23,
     "metadata": {},
     "output_type": "execute_result"
    }
   ],
   "source": [
    "# Synthesize data\n",
    "gen_count = hearts_stack.shape[0]\n",
    "\n",
    "Load(hearts_train).Train(plugin=gen_method).Generate(count=gen_count).Save(name=f\"{gen_method}\\hearts_syn_v5.csv\", key=\"synth\")"
   ]
  },
  {
   "cell_type": "markdown",
   "metadata": {},
   "source": [
    "# stack_v5 - Final stack"
   ]
  },
  {
   "cell_type": "code",
   "execution_count": 24,
   "metadata": {},
   "outputs": [],
   "source": [
    "# Read synthesized data\n",
    "hearts_syn = pd.read_csv(f\"{gen_method}\\hearts_syn_v5.csv\").round(1)\n",
    "\n",
    "# Remove first column\n",
    "hearts_syn = hearts_syn.drop(hearts_syn.columns[0], axis=1)\n",
    "\n",
    "# Concatenate synthesized data with stack data\n",
    "hearts_stack = pd.concat([hearts_stack, hearts_syn], ignore_index=True)\n",
    "\n",
    "# Save to csv\n",
    "hearts_stack.to_csv(f\"{gen_method}\\hearts_stack_v5.csv\", index=False)\n",
    "\n",
    "# Split synthesized data into 80/20 train and test\n",
    "hearts_train, hearts_test = train_test_split(hearts_stack, test_size=0.2, random_state=42)\n",
    "\n",
    "# Save to csv\n",
    "hearts_train.to_csv(f\"{gen_method}\\hearts_stack_v5_train.csv\", index=False)\n",
    "hearts_test.to_csv(f\"{gen_method}\\hearts_stack_v5_test.csv\", index=False)"
   ]
  },
  {
   "cell_type": "markdown",
   "metadata": {},
   "source": [
    "# stack_v5 (synth only)"
   ]
  },
  {
   "cell_type": "code",
   "execution_count": 37,
   "metadata": {},
   "outputs": [],
   "source": [
    "# Remove first 1190 rows, equal to the real data, from stack_v5\n",
    "hearts_stack_synth_only = hearts_stack.iloc[1190:,:]\n",
    "\n",
    "# Save to csv\n",
    "hearts_stack_synth_only.to_csv(f\"{gen_method}\\hearts_stack_synth_only.csv\", index=False)\n",
    "\n",
    "# Split synth_only stack into 80/20 train and test\n",
    "hearts_train, hearts_test = train_test_split(hearts_stack_synth_only, test_size=0.2, random_state=42)\n",
    "\n",
    "# Save to csv\n",
    "hearts_train.to_csv(f\"{gen_method}\\hearts_stack_synth_only_train.csv\", index=False)\n",
    "hearts_test.to_csv(f\"{gen_method}\\hearts_stack_synth_only_test.csv\", index=False)"
   ]
  }
 ],
 "metadata": {
  "kernelspec": {
   "display_name": "Python 3",
   "language": "python",
   "name": "python3"
  },
  "language_info": {
   "codemirror_mode": {
    "name": "ipython",
    "version": 3
   },
   "file_extension": ".py",
   "mimetype": "text/x-python",
   "name": "python",
   "nbconvert_exporter": "python",
   "pygments_lexer": "ipython3",
   "version": "3.10.11"
  }
 },
 "nbformat": 4,
 "nbformat_minor": 2
}
