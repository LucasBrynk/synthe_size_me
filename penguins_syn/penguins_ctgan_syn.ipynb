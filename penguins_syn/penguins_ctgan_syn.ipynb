{
 "cells": [
  {
   "cell_type": "markdown",
   "metadata": {},
   "source": [
    "# penguins_ctgan stacking"
   ]
  },
  {
   "cell_type": "markdown",
   "metadata": {},
   "source": [
    "Training on penguins dataset using ctgan model and stacking data"
   ]
  },
  {
   "cell_type": "code",
   "execution_count": 1,
   "metadata": {},
   "outputs": [
    {
     "name": "stderr",
     "output_type": "stream",
     "text": [
      "c:\\Users\\Qurri\\AppData\\Local\\Programs\\Python\\Python310\\lib\\site-packages\\tqdm\\auto.py:21: TqdmWarning: IProgress not found. Please update jupyter and ipywidgets. See https://ipywidgets.readthedocs.io/en/stable/user_install.html\n",
      "  from .autonotebook import tqdm as notebook_tqdm\n"
     ]
    },
    {
     "name": "stdout",
     "output_type": "stream",
     "text": [
      "[KeOps] Warning : \n",
      "    The default C++ compiler could not be found on your system.\n",
      "    You need to either define the CXX environment variable or a symlink to the g++ command.\n",
      "    For example if g++-8 is the command you can do\n",
      "      import os\n",
      "      os.environ['CXX'] = 'g++-8'\n",
      "    \n",
      "[KeOps] Warning : Cuda libraries were not detected on the system or could not be loaded ; using cpu only mode\n"
     ]
    }
   ],
   "source": [
    "# Imports\n",
    "\n",
    "from synthesizers import Load\n",
    "\n",
    "from sklearn.model_selection import train_test_split\n",
    "\n",
    "import matplotlib.pyplot as plt\n",
    "import pandas as pd"
   ]
  },
  {
   "cell_type": "markdown",
   "metadata": {},
   "source": [
    "Declare real dataset and split into train/test"
   ]
  },
  {
   "cell_type": "code",
   "execution_count": 2,
   "metadata": {},
   "outputs": [],
   "source": [
    "# Read penguins data\n",
    "penguins_real = pd.read_csv(\"Data\\penguins_size.csv\")\n",
    "penguins_real = penguins_real.dropna()\n",
    "gen_method = \"ctgan\"\n",
    "target = \"species\""
   ]
  },
  {
   "cell_type": "code",
   "execution_count": 3,
   "metadata": {},
   "outputs": [],
   "source": [
    "# Split penguins data into 80/20 train and test\n",
    "penguins_train, penguins_test = train_test_split(penguins_real, test_size=0.2, random_state=42)\n",
    "\n",
    "# Save to csv\n",
    "penguins_train.to_csv(\"Data\\penguins_train.csv\", index=False)\n",
    "penguins_test.to_csv(\"Data\\penguins_test.csv\", index=False)"
   ]
  },
  {
   "cell_type": "markdown",
   "metadata": {},
   "source": [
    "# syn_v1"
   ]
  },
  {
   "cell_type": "code",
   "execution_count": 5,
   "metadata": {},
   "outputs": [
    {
     "name": "stderr",
     "output_type": "stream",
     "text": [
      "[2024-05-06T14:17:42.096565+0200][1572][CRITICAL] module disabled: c:\\Users\\Qurri\\AppData\\Local\\Programs\\Python\\Python310\\lib\\site-packages\\synthcity\\plugins\\generic\\plugin_goggle.py\n",
      " 60%|█████▉    | 1199/2000 [01:54<01:16, 10.44it/s]\n"
     ]
    },
    {
     "data": {
      "text/plain": [
       "[{'train':        species     island  culmen_length_mm  culmen_depth_mm  \\\n",
       "230     Gentoo     Biscoe              40.9             13.7   \n",
       "84      Adelie      Dream              37.3             17.8   \n",
       "303     Gentoo     Biscoe              50.0             15.9   \n",
       "22      Adelie     Biscoe              35.9             19.2   \n",
       "29      Adelie     Biscoe              40.5             18.9   \n",
       "..         ...        ...               ...              ...   \n",
       "194  Chinstrap      Dream              50.9             19.1   \n",
       "77      Adelie  Torgersen              37.2             19.4   \n",
       "112     Adelie     Biscoe              39.7             17.7   \n",
       "277     Gentoo     Biscoe              45.5             15.0   \n",
       "108     Adelie     Biscoe              38.1             17.0   \n",
       "\n",
       "     flipper_length_mm  body_mass_g     sex  \n",
       "230              214.0       4650.0  FEMALE  \n",
       "84               191.0       3350.0  FEMALE  \n",
       "303              224.0       5350.0    MALE  \n",
       "22               189.0       3800.0  FEMALE  \n",
       "29               180.0       3950.0    MALE  \n",
       "..                 ...          ...     ...  \n",
       "194              196.0       3550.0    MALE  \n",
       "77               184.0       3900.0    MALE  \n",
       "112              193.0       3200.0  FEMALE  \n",
       "277              220.0       5000.0    MALE  \n",
       "108              181.0       3175.0  FEMALE  \n",
       "\n",
       "[267 rows x 7 columns], 'test': None, 'synth':        species     island  culmen_length_mm  culmen_depth_mm  \\\n",
       "0       Gentoo     Biscoe         48.401578        16.307597   \n",
       "1       Gentoo     Biscoe         47.520441        15.541767   \n",
       "2       Adelie  Torgersen         37.218108        19.064731   \n",
       "3       Adelie  Torgersen         39.564154        18.401871   \n",
       "4       Gentoo     Biscoe         40.487028        15.198169   \n",
       "..         ...        ...               ...              ...   \n",
       "329     Adelie      Dream         37.649325        16.830919   \n",
       "330  Chinstrap      Dream         48.406673        18.959850   \n",
       "331     Adelie  Torgersen         36.906392        19.625471   \n",
       "332     Adelie      Dream         36.885289        18.695358   \n",
       "333  Chinstrap      Dream         53.463668        20.776352   \n",
       "\n",
       "     flipper_length_mm  body_mass_g     sex  \n",
       "0           222.987508  4925.731119    MALE  \n",
       "1           221.396339  5366.956183  FEMALE  \n",
       "2           188.955690  5922.214267    MALE  \n",
       "3           189.399751  3334.658974  FEMALE  \n",
       "4           191.016061  5053.583367    MALE  \n",
       "..                 ...          ...     ...  \n",
       "329         184.320489  3484.421739  FEMALE  \n",
       "330         191.511241  3876.035290  FEMALE  \n",
       "331         186.962306  4145.122462    MALE  \n",
       "332         189.867361  3604.250086    MALE  \n",
       "333         219.902530  3932.980661    MALE  \n",
       "\n",
       "[334 rows x 7 columns], 'model': SynthCityModel(<synthcity.plugins.generic.plugin_ctgan.CTGANPlugin object at 0x00000175E438E710>), 'eval': None}]"
      ]
     },
     "execution_count": 5,
     "metadata": {},
     "output_type": "execute_result"
    }
   ],
   "source": [
    "# Synthesize data\n",
    "gen_count = penguins_real.shape[0]\n",
    "\n",
    "Load(penguins_train).Train(plugin=gen_method).Generate(count=gen_count).Save(name=f\"{gen_method}\\penguins_syn_v1.csv\", key=\"synth\")"
   ]
  },
  {
   "cell_type": "markdown",
   "metadata": {},
   "source": [
    "# syn_v2"
   ]
  },
  {
   "cell_type": "code",
   "execution_count": 7,
   "metadata": {},
   "outputs": [],
   "source": [
    "# Read synthesized data\n",
    "penguins_syn = pd.read_csv(f\"{gen_method}\\penguins_syn_v1.csv\").round(1)\n",
    "\n",
    "# Remove first column\n",
    "penguins_syn = penguins_syn.iloc[:, 1:]\n",
    "\n",
    "# Concatenate real and synthesized data\n",
    "penguins_stack = pd.concat([penguins_real, penguins_syn], ignore_index=True)\n",
    "\n",
    "# Save to csv\n",
    "penguins_stack.to_csv(f\"{gen_method}\\penguins_stack_v1.csv\", index=False)\n",
    "\n",
    "# Split stack data into 80/20 train and test\n",
    "penguins_train, penguins_test = train_test_split(penguins_stack, test_size=0.2, random_state=42)\n",
    "\n",
    "# Save to csv\n",
    "penguins_train.to_csv(f\"{gen_method}\\penguins_stack_v1_train.csv\", index=False)\n",
    "penguins_test.to_csv(f\"{gen_method}\\penguins_stack_v1_test.csv\", index=False)"
   ]
  },
  {
   "cell_type": "code",
   "execution_count": 11,
   "metadata": {},
   "outputs": [
    {
     "name": "stderr",
     "output_type": "stream",
     "text": [
      "[2024-05-06T14:32:34.785295+0200][1572][CRITICAL] module disabled: c:\\Users\\Qurri\\AppData\\Local\\Programs\\Python\\Python310\\lib\\site-packages\\synthcity\\plugins\\generic\\plugin_goggle.py\n",
      " 25%|██▍       | 499/2000 [01:20<04:01,  6.23it/s]\n"
     ]
    },
    {
     "data": {
      "text/plain": [
       "[{'train':     species     island  culmen_length_mm  culmen_depth_mm  flipper_length_mm  \\\n",
       "235  Gentoo     Biscoe              45.1             14.5              215.0   \n",
       "399  Adelie  Torgersen              36.4             17.9              187.6   \n",
       "602  Gentoo     Biscoe              37.2             16.9              218.2   \n",
       "61   Adelie     Biscoe              41.1             19.1              188.0   \n",
       "145  Adelie      Dream              41.5             18.5              201.0   \n",
       "..      ...        ...               ...              ...                ...   \n",
       "71   Adelie  Torgersen              37.2             19.4              184.0   \n",
       "106  Adelie     Biscoe              39.7             17.7              193.0   \n",
       "270  Gentoo     Biscoe              45.5             15.0              220.0   \n",
       "435  Adelie     Biscoe              40.0             18.3              188.1   \n",
       "102  Adelie     Biscoe              38.1             17.0              181.0   \n",
       "\n",
       "     body_mass_g     sex  \n",
       "235       5000.0  FEMALE  \n",
       "399       3583.6    MALE  \n",
       "602       4402.3  FEMALE  \n",
       "61        4100.0    MALE  \n",
       "145       4000.0    MALE  \n",
       "..           ...     ...  \n",
       "71        3900.0    MALE  \n",
       "106       3200.0  FEMALE  \n",
       "270       5000.0    MALE  \n",
       "435       3571.9  FEMALE  \n",
       "102       3175.0  FEMALE  \n",
       "\n",
       "[534 rows x 7 columns], 'test': None, 'synth':        species     island  culmen_length_mm  culmen_depth_mm  \\\n",
       "0       Adelie  Torgersen         37.392840        18.806794   \n",
       "1       Gentoo     Biscoe         44.455002        14.539649   \n",
       "2       Gentoo     Biscoe         44.676508        14.782635   \n",
       "3       Gentoo     Biscoe         45.130458        15.163539   \n",
       "4       Adelie      Dream         36.935521        17.695164   \n",
       "..         ...        ...               ...              ...   \n",
       "663  Chinstrap      Dream         48.709453        18.196121   \n",
       "664     Gentoo  Torgersen         45.425018        14.770139   \n",
       "665  Chinstrap      Dream         51.542161        19.718833   \n",
       "666     Gentoo     Biscoe         46.744833        14.710118   \n",
       "667     Gentoo     Biscoe         44.796654        14.219426   \n",
       "\n",
       "     flipper_length_mm  body_mass_g     sex  \n",
       "0           181.346286  3522.593615  FEMALE  \n",
       "1           216.498230  4562.417077  FEMALE  \n",
       "2           220.828205  4632.023134  FEMALE  \n",
       "3           219.640224  4762.627042  FEMALE  \n",
       "4           184.351877  3254.870351  FEMALE  \n",
       "..                 ...          ...     ...  \n",
       "663         223.460805  4572.660656  FEMALE  \n",
       "664         192.802670  3415.142808  FEMALE  \n",
       "665         194.481266  3506.774329    MALE  \n",
       "666         223.834428  5086.749053  FEMALE  \n",
       "667         220.503283  4545.877922  FEMALE  \n",
       "\n",
       "[668 rows x 7 columns], 'model': SynthCityModel(<synthcity.plugins.generic.plugin_ctgan.CTGANPlugin object at 0x00000175F1C68760>), 'eval': None}]"
      ]
     },
     "execution_count": 11,
     "metadata": {},
     "output_type": "execute_result"
    }
   ],
   "source": [
    "# Synthesize data\n",
    "gen_count = penguins_stack.shape[0]\n",
    "\n",
    "Load(penguins_train).Train(plugin=gen_method).Generate(count=gen_count).Save(name=f\"{gen_method}\\penguins_syn_v2.csv\", key=\"synth\")"
   ]
  },
  {
   "cell_type": "markdown",
   "metadata": {},
   "source": [
    "# syn_v3"
   ]
  },
  {
   "cell_type": "code",
   "execution_count": 12,
   "metadata": {},
   "outputs": [],
   "source": [
    "# Read synthesized data\n",
    "penguins_syn = pd.read_csv(f\"{gen_method}\\penguins_syn_v2.csv\").round(1)\n",
    "\n",
    "# Remove first column\n",
    "penguins_syn = penguins_syn.iloc[:, 1:]\n",
    "\n",
    "# Concatenate stack and synthesized data\n",
    "penguins_stack = pd.concat([penguins_stack, penguins_syn], ignore_index=True)\n",
    "\n",
    "# Save to csv\n",
    "penguins_stack.to_csv(f\"{gen_method}\\penguins_stack_v2.csv\", index=False)\n",
    "\n",
    "# Split stack data into 80/20 train and test\n",
    "penguins_train, penguins_test = train_test_split(penguins_stack, test_size=0.2, random_state=42)\n",
    "\n",
    "# Save to csv\n",
    "penguins_train.to_csv(f\"{gen_method}\\penguins_stack_v2_train.csv\", index=False)\n",
    "penguins_test.to_csv(f\"{gen_method}\\penguins_stack_v2_test.csv\", index=False)"
   ]
  },
  {
   "cell_type": "code",
   "execution_count": 13,
   "metadata": {},
   "outputs": [
    {
     "name": "stderr",
     "output_type": "stream",
     "text": [
      "[2024-05-06T14:42:09.960135+0200][1572][CRITICAL] module disabled: c:\\Users\\Qurri\\AppData\\Local\\Programs\\Python\\Python310\\lib\\site-packages\\synthcity\\plugins\\generic\\plugin_goggle.py\n",
      " 17%|█▋        | 349/2000 [01:33<07:20,  3.75it/s]\n"
     ]
    },
    {
     "data": {
      "text/plain": [
       "[{'train':         species     island  culmen_length_mm  culmen_depth_mm  \\\n",
       "1112     Gentoo     Biscoe              43.7             14.1   \n",
       "966      Adelie      Dream              41.3             19.3   \n",
       "598      Adelie      Dream              37.6             19.5   \n",
       "170   Chinstrap      Dream              46.7             17.9   \n",
       "275      Gentoo     Biscoe              45.7             13.9   \n",
       "...         ...        ...               ...              ...   \n",
       "1095     Adelie      Dream              46.9             19.9   \n",
       "1130     Adelie      Dream              37.5             18.9   \n",
       "1294     Gentoo     Biscoe              48.9             15.5   \n",
       "860      Adelie  Torgersen              39.7             19.6   \n",
       "1126     Gentoo     Biscoe              48.4             14.9   \n",
       "\n",
       "      flipper_length_mm  body_mass_g     sex  \n",
       "1112              224.3       4812.4  FEMALE  \n",
       "966               196.2       3574.4  FEMALE  \n",
       "598               185.4       3888.5    MALE  \n",
       "170               195.0       3300.0  FEMALE  \n",
       "275               214.0       4400.0  FEMALE  \n",
       "...                 ...          ...     ...  \n",
       "1095              196.9       3865.6       .  \n",
       "1130              184.8       3293.9    MALE  \n",
       "1294              221.9       5249.3    MALE  \n",
       "860               191.2       4634.9    MALE  \n",
       "1126              214.3       4944.0  FEMALE  \n",
       "\n",
       "[1068 rows x 7 columns], 'test': None, 'synth':         species     island  culmen_length_mm  culmen_depth_mm  \\\n",
       "0     Chinstrap      Dream         47.300370        19.260993   \n",
       "1     Chinstrap      Dream         48.485008        18.489504   \n",
       "2     Chinstrap      Dream         47.565516        18.197934   \n",
       "3        Adelie      Dream         37.687972        18.245745   \n",
       "4     Chinstrap      Dream         47.334054        18.895148   \n",
       "...         ...        ...               ...              ...   \n",
       "1331     Gentoo     Biscoe         45.905844        14.975392   \n",
       "1332     Adelie     Biscoe         38.360045        15.014578   \n",
       "1333     Adelie  Torgersen         36.090871        18.485698   \n",
       "1334     Adelie  Torgersen         36.314671        18.272181   \n",
       "1335     Gentoo     Biscoe         45.191731        14.152413   \n",
       "\n",
       "      flipper_length_mm  body_mass_g     sex  \n",
       "0            193.794915  3595.564475    MALE  \n",
       "1            225.129862  3741.020691    MALE  \n",
       "2            192.607891  3547.755234  FEMALE  \n",
       "3            190.066318  3307.642439  FEMALE  \n",
       "4            193.725321  3806.704253    MALE  \n",
       "...                 ...          ...     ...  \n",
       "1331         224.739960  4958.121751  FEMALE  \n",
       "1332         208.284861  4739.101249    MALE  \n",
       "1333         191.309285  3066.575875  FEMALE  \n",
       "1334         186.362377  3141.529943  FEMALE  \n",
       "1335         222.242338  4674.961787  FEMALE  \n",
       "\n",
       "[1336 rows x 7 columns], 'model': SynthCityModel(<synthcity.plugins.generic.plugin_ctgan.CTGANPlugin object at 0x00000175F6C37B80>), 'eval': None}]"
      ]
     },
     "execution_count": 13,
     "metadata": {},
     "output_type": "execute_result"
    }
   ],
   "source": [
    "# Synthesize data\n",
    "gen_count = penguins_stack.shape[0]\n",
    "\n",
    "Load(penguins_train).Train(plugin=gen_method).Generate(count=gen_count).Save(name=f\"{gen_method}\\penguins_syn_v3.csv\", key=\"synth\")"
   ]
  },
  {
   "cell_type": "markdown",
   "metadata": {},
   "source": [
    "# syn_v4"
   ]
  },
  {
   "cell_type": "code",
   "execution_count": 14,
   "metadata": {},
   "outputs": [],
   "source": [
    "# Read synthesized data\n",
    "penguins_syn = pd.read_csv(f\"{gen_method}\\penguins_syn_v3.csv\").round(1)\n",
    "\n",
    "# Remove first column\n",
    "penguins_syn = penguins_syn.iloc[:, 1:]\n",
    "\n",
    "# Concatenate stack and synthesized data\n",
    "penguins_stack = pd.concat([penguins_stack, penguins_syn], ignore_index=True)\n",
    "\n",
    "# Save to csv\n",
    "penguins_stack.to_csv(f\"{gen_method}\\penguins_stack_v3.csv\", index=False)\n",
    "\n",
    "# Split stack data into 80/20 train and test\n",
    "penguins_train, penguins_test = train_test_split(penguins_stack, test_size=0.2, random_state=42)\n",
    "\n",
    "# Save to csv\n",
    "penguins_train.to_csv(f\"{gen_method}\\penguins_stack_v3_train.csv\", index=False)\n",
    "penguins_test.to_csv(f\"{gen_method}\\penguins_stack_v3_test.csv\", index=False)"
   ]
  },
  {
   "cell_type": "code",
   "execution_count": 15,
   "metadata": {},
   "outputs": [
    {
     "name": "stderr",
     "output_type": "stream",
     "text": [
      "[2024-05-06T14:43:43.759611+0200][1572][CRITICAL] module disabled: c:\\Users\\Qurri\\AppData\\Local\\Programs\\Python\\Python310\\lib\\site-packages\\synthcity\\plugins\\generic\\plugin_goggle.py\n",
      " 27%|██▋       | 549/2000 [04:52<12:52,  1.88it/s]\n"
     ]
    },
    {
     "data": {
      "text/plain": [
       "[{'train':         species     island  culmen_length_mm  culmen_depth_mm  \\\n",
       "1011  Chinstrap      Dream              46.0             19.5   \n",
       "1273     Gentoo     Biscoe              48.2             16.2   \n",
       "69       Adelie  Torgersen              42.8             18.5   \n",
       "2539  Chinstrap      Dream              48.7             19.1   \n",
       "942      Adelie      Dream              39.7             19.7   \n",
       "...         ...        ...               ...              ...   \n",
       "1638     Gentoo     Biscoe              49.8             14.7   \n",
       "1095     Adelie      Dream              46.9             19.9   \n",
       "1130     Adelie      Dream              37.5             18.9   \n",
       "1294     Gentoo     Biscoe              48.9             15.5   \n",
       "860      Adelie  Torgersen              39.7             19.6   \n",
       "\n",
       "      flipper_length_mm  body_mass_g     sex  \n",
       "1011              201.1       3668.0  FEMALE  \n",
       "1273              223.4       5050.5    MALE  \n",
       "69                195.0       4250.0    MALE  \n",
       "2539              197.2       3772.6    MALE  \n",
       "942               195.0       3956.4    MALE  \n",
       "...                 ...          ...     ...  \n",
       "1638              220.5       3894.0  FEMALE  \n",
       "1095              196.9       3865.6       .  \n",
       "1130              184.8       3293.9    MALE  \n",
       "1294              221.9       5249.3    MALE  \n",
       "860               191.2       4634.9    MALE  \n",
       "\n",
       "[2137 rows x 7 columns], 'test': None, 'synth':         species     island  culmen_length_mm  culmen_depth_mm  \\\n",
       "0        Adelie      Dream         37.538231        18.275935   \n",
       "1        Adelie      Dream         36.183559        18.479179   \n",
       "2        Adelie  Torgersen         36.603069        18.673642   \n",
       "3        Gentoo     Biscoe         45.274256        15.010871   \n",
       "4        Adelie      Dream         36.536237        18.279469   \n",
       "...         ...        ...               ...              ...   \n",
       "2667     Adelie      Dream         36.178708        18.860041   \n",
       "2668  Chinstrap      Dream         51.195997        19.445850   \n",
       "2669  Chinstrap      Dream         47.518919        18.151735   \n",
       "2670     Adelie      Dream         36.735404        18.254682   \n",
       "2671  Chinstrap      Dream         49.104680        19.350331   \n",
       "\n",
       "      flipper_length_mm  body_mass_g     sex  \n",
       "0            189.151797  3124.383963    MALE  \n",
       "1            190.128421  3384.659980  FEMALE  \n",
       "2            187.789182  3120.510825    MALE  \n",
       "3            219.080099  4364.343466  FEMALE  \n",
       "4            185.647812  2996.569968  FEMALE  \n",
       "...                 ...          ...     ...  \n",
       "2667         187.322200  3043.948128    MALE  \n",
       "2668         185.648326  3205.168731    MALE  \n",
       "2669         187.976348  3232.911017  FEMALE  \n",
       "2670         183.394892  3058.676482    MALE  \n",
       "2671         190.059139  3518.239817    MALE  \n",
       "\n",
       "[2672 rows x 7 columns], 'model': SynthCityModel(<synthcity.plugins.generic.plugin_ctgan.CTGANPlugin object at 0x00000175F6C6FD00>), 'eval': None}]"
      ]
     },
     "execution_count": 15,
     "metadata": {},
     "output_type": "execute_result"
    }
   ],
   "source": [
    "# Synthesize data\n",
    "gen_count = penguins_stack.shape[0]\n",
    "\n",
    "Load(penguins_train).Train(plugin=gen_method).Generate(count=gen_count).Save(name=f\"{gen_method}\\penguins_syn_v4.csv\", key=\"synth\")"
   ]
  },
  {
   "cell_type": "markdown",
   "metadata": {},
   "source": [
    "# syn_v5"
   ]
  },
  {
   "cell_type": "code",
   "execution_count": 16,
   "metadata": {},
   "outputs": [],
   "source": [
    "# Read synthesized data\n",
    "penguins_syn = pd.read_csv(f\"{gen_method}\\penguins_syn_v4.csv\").round(1)\n",
    "\n",
    "# Remove first column\n",
    "penguins_syn = penguins_syn.iloc[:, 1:]\n",
    "\n",
    "# Concatenate stack and synthesized data\n",
    "penguins_stack = pd.concat([penguins_stack, penguins_syn], ignore_index=True)\n",
    "\n",
    "# Save to csv\n",
    "penguins_stack.to_csv(f\"{gen_method}\\penguins_stack_v4.csv\", index=False)\n",
    "\n",
    "# Split stack data into 80/20 train and test\n",
    "penguins_train, penguins_test = train_test_split(penguins_stack, test_size=0.2, random_state=42)\n",
    "\n",
    "# Save to csv\n",
    "penguins_train.to_csv(f\"{gen_method}\\penguins_stack_v4_train.csv\", index=False)\n",
    "penguins_test.to_csv(f\"{gen_method}\\penguins_stack_v4_test.csv\", index=False)"
   ]
  },
  {
   "cell_type": "code",
   "execution_count": 17,
   "metadata": {},
   "outputs": [
    {
     "name": "stderr",
     "output_type": "stream",
     "text": [
      "[2024-05-06T14:48:37.074536+0200][1572][CRITICAL] module disabled: c:\\Users\\Qurri\\AppData\\Local\\Programs\\Python\\Python310\\lib\\site-packages\\synthcity\\plugins\\generic\\plugin_goggle.py\n",
      " 42%|████▏     | 849/2000 [17:04<23:09,  1.21s/it]  \n"
     ]
    },
    {
     "data": {
      "text/plain": [
       "[{'train':         species     island  culmen_length_mm  culmen_depth_mm  \\\n",
       "5054  Chinstrap      Dream              47.5             19.5   \n",
       "120      Adelie  Torgersen              38.8             17.6   \n",
       "2351     Gentoo     Biscoe              45.1             15.3   \n",
       "1907     Gentoo     Biscoe              45.9             14.7   \n",
       "3648     Gentoo     Biscoe              47.1             18.2   \n",
       "...         ...        ...               ...              ...   \n",
       "3092     Gentoo  Torgersen              45.3             14.7   \n",
       "3772     Adelie     Biscoe              37.6             17.5   \n",
       "5191  Chinstrap      Dream              48.9             19.2   \n",
       "5226     Adelie      Dream              36.4             17.9   \n",
       "860      Adelie  Torgersen              39.7             19.6   \n",
       "\n",
       "      flipper_length_mm  body_mass_g     sex  \n",
       "5054              219.8       5046.2    MALE  \n",
       "120               191.0       3275.0  FEMALE  \n",
       "2351              222.0       4436.2  FEMALE  \n",
       "1907              225.1       4949.5  FEMALE  \n",
       "3648              203.2       4631.1  FEMALE  \n",
       "...                 ...          ...     ...  \n",
       "3092              188.7       3987.3  FEMALE  \n",
       "3772              183.4       3152.3  FEMALE  \n",
       "5191              220.2       3629.2    MALE  \n",
       "5226              183.2       2948.2  FEMALE  \n",
       "860               191.2       4634.9    MALE  \n",
       "\n",
       "[4275 rows x 7 columns], 'test': None, 'synth':         species  island  culmen_length_mm  culmen_depth_mm  flipper_length_mm  \\\n",
       "0        Adelie   Dream         36.597670        19.048503         183.274583   \n",
       "1        Gentoo  Biscoe         48.059969        14.966588         209.737074   \n",
       "2        Adelie  Biscoe         47.664754        19.626661         215.551131   \n",
       "3        Gentoo  Biscoe         44.348463        15.226346         213.019710   \n",
       "4        Gentoo  Biscoe         39.868967        15.745302         180.207899   \n",
       "...         ...     ...               ...              ...                ...   \n",
       "5339  Chinstrap   Dream         46.484898        19.736105         214.779273   \n",
       "5340  Chinstrap   Dream         47.182081        19.285073         185.879717   \n",
       "5341     Gentoo  Biscoe         45.244589        19.086611         214.866715   \n",
       "5342  Chinstrap   Dream         47.575953        20.034819         216.335130   \n",
       "5343     Adelie   Dream         37.362894        15.267874         187.500052   \n",
       "\n",
       "      body_mass_g     sex  \n",
       "0     3018.016786  FEMALE  \n",
       "1     4105.114668    MALE  \n",
       "2     3610.111490    MALE  \n",
       "3     4322.173053  FEMALE  \n",
       "4     4579.746590    MALE  \n",
       "...           ...     ...  \n",
       "5339  3512.096909    MALE  \n",
       "5340  4181.971560  FEMALE  \n",
       "5341  4617.062286  FEMALE  \n",
       "5342  3629.640648    MALE  \n",
       "5343  3409.487557    MALE  \n",
       "\n",
       "[5344 rows x 7 columns], 'model': SynthCityModel(<synthcity.plugins.generic.plugin_ctgan.CTGANPlugin object at 0x00000175F1B48AF0>), 'eval': None}]"
      ]
     },
     "execution_count": 17,
     "metadata": {},
     "output_type": "execute_result"
    }
   ],
   "source": [
    "# Synthesize data\n",
    "gen_count = penguins_stack.shape[0]\n",
    "\n",
    "Load(penguins_train).Train(plugin=gen_method).Generate(count=gen_count).Save(name=f\"{gen_method}\\penguins_syn_v5.csv\", key=\"synth\")"
   ]
  },
  {
   "cell_type": "markdown",
   "metadata": {},
   "source": [
    "# stack_v5 - Final stack"
   ]
  },
  {
   "cell_type": "code",
   "execution_count": 22,
   "metadata": {},
   "outputs": [],
   "source": [
    "# Read synthesized data\n",
    "penguins_syn = pd.read_csv(f\"{gen_method}\\penguins_syn_v5.csv\").round(1)\n",
    "\n",
    "# Remove first column\n",
    "penguins_syn = penguins_syn.iloc[:, 1:]\n",
    "\n",
    "# Concatenate stack and synthesized data\n",
    "penguins_stack = pd.concat([penguins_stack, penguins_syn], ignore_index=True)\n",
    "\n",
    "# Save to csv\n",
    "penguins_stack.to_csv(f\"{gen_method}\\penguins_stack_v5.csv\", index=False)\n",
    "\n",
    "# Split stack data into 80/20 train and test\n",
    "penguins_train, penguins_test = train_test_split(penguins_stack, test_size=0.2, random_state=42)\n",
    "\n",
    "# Save to csv\n",
    "penguins_train.to_csv(f\"{gen_method}\\penguins_stack_v5_train.csv\", index=False)\n",
    "penguins_test.to_csv(f\"{gen_method}\\penguins_stack_v5_test.csv\", index=False)"
   ]
  },
  {
   "cell_type": "markdown",
   "metadata": {},
   "source": [
    "# Train on stack_v5 and save as state"
   ]
  },
  {
   "cell_type": "code",
   "execution_count": 23,
   "metadata": {},
   "outputs": [
    {
     "name": "stderr",
     "output_type": "stream",
     "text": [
      "[2024-05-06T15:15:49.672347+0200][1572][CRITICAL] module disabled: c:\\Users\\Qurri\\AppData\\Local\\Programs\\Python\\Python310\\lib\\site-packages\\synthcity\\plugins\\generic\\plugin_goggle.py\n",
      " 17%|█▋        | 349/2000 [31:14<2:27:48,  5.37s/it]\n"
     ]
    }
   ],
   "source": [
    "# Train stack_v5 and save as state\n",
    "state_stack_v5 = Load(penguins_train).Train(plugin=gen_method).Save(\"stack_v5\")"
   ]
  },
  {
   "cell_type": "markdown",
   "metadata": {},
   "source": [
    "# stack_v5 (synth only)"
   ]
  },
  {
   "cell_type": "code",
   "execution_count": 24,
   "metadata": {},
   "outputs": [],
   "source": [
    "# Remove the first 334 rows, equal to the real data, from stack_v5\n",
    "penguins_stack_synth_only = penguins_stack.iloc[334:, :]\n",
    "\n",
    "# Save to csv\n",
    "penguins_stack_synth_only.to_csv(f\"{gen_method}\\penguins_stack_synth_only.csv\", index=False)\n",
    "\n",
    "# Split synth_only stack into 80/20 train and test\n",
    "penguins_train, penguins_test = train_test_split(penguins_stack_synth_only, test_size=0.2, random_state=42)\n",
    "\n",
    "# Save to csv\n",
    "penguins_train.to_csv(f\"{gen_method}\\penguins_stack_synth_only_train.csv\", index=False)\n",
    "penguins_test.to_csv(f\"{gen_method}\\penguins_stack_synth_only_test.csv\", index=False)"
   ]
  },
  {
   "cell_type": "markdown",
   "metadata": {},
   "source": [
    "# Train on synth_only and save as state"
   ]
  },
  {
   "cell_type": "code",
   "execution_count": 25,
   "metadata": {},
   "outputs": [
    {
     "name": "stderr",
     "output_type": "stream",
     "text": [
      "[2024-05-06T15:48:08.046113+0200][1572][CRITICAL] module disabled: c:\\Users\\Qurri\\AppData\\Local\\Programs\\Python\\Python310\\lib\\site-packages\\synthcity\\plugins\\generic\\plugin_goggle.py\n",
      " 17%|█▋        | 349/2000 [32:11<2:32:15,  5.53s/it]\n"
     ]
    }
   ],
   "source": [
    "# Train synth_only stack and save as state\n",
    "state_stack_synth_only = Load(penguins_train).Train(plugin=gen_method).Save(\"stack_synth_only\")"
   ]
  },
  {
   "cell_type": "markdown",
   "metadata": {},
   "source": [
    "# Generate synth data based on stack_v5"
   ]
  },
  {
   "cell_type": "code",
   "execution_count": 31,
   "metadata": {},
   "outputs": [
    {
     "data": {
      "text/plain": [
       "[{'train':          species     island  culmen_length_mm  culmen_depth_mm  \\\n",
       "11326  Chinstrap      Dream              47.9             19.7   \n",
       "25374     Gentoo     Biscoe              45.3             15.7   \n",
       "24469  Chinstrap      Dream              39.1             19.1   \n",
       "21090     Gentoo     Biscoe              47.2             19.2   \n",
       "20336  Chinstrap      Dream              48.8             19.9   \n",
       "...          ...        ...               ...              ...   \n",
       "21575     Gentoo     Biscoe              44.6             15.0   \n",
       "5390   Chinstrap      Dream              47.4             19.7   \n",
       "860       Adelie  Torgersen              39.7             19.6   \n",
       "15795     Gentoo     Biscoe              47.7             15.8   \n",
       "23654     Gentoo     Biscoe              44.4             15.2   \n",
       "\n",
       "       flipper_length_mm  body_mass_g     sex  \n",
       "11326              180.6       3856.6    MALE  \n",
       "25374              218.7       4696.0  FEMALE  \n",
       "24469              209.9       2819.3  FEMALE  \n",
       "21090              214.4       4742.7    MALE  \n",
       "20336              186.1       3517.3    MALE  \n",
       "...                  ...          ...     ...  \n",
       "21575              180.3       2802.9  FEMALE  \n",
       "5390               185.6       3406.0    MALE  \n",
       "860                191.2       4634.9    MALE  \n",
       "15795              214.0       4336.2    MALE  \n",
       "23654              203.0       4015.7  FEMALE  \n",
       "\n",
       "[21376 rows x 7 columns], 'test': None, 'synth':        species     island  culmen_length_mm  culmen_depth_mm  \\\n",
       "0       Adelie     Biscoe         41.199663        19.798654   \n",
       "1       Adelie     Biscoe         36.936495        18.777905   \n",
       "2    Chinstrap      Dream         37.302357        19.109731   \n",
       "3       Gentoo      Dream         44.728027        15.015971   \n",
       "4       Adelie      Dream         37.364551        18.770231   \n",
       "..         ...        ...               ...              ...   \n",
       "329     Adelie  Torgersen         37.686290        17.149861   \n",
       "330     Gentoo     Biscoe         44.988581        15.678281   \n",
       "331     Adelie  Torgersen         37.109512        19.356223   \n",
       "332     Gentoo     Biscoe         47.335386        15.387935   \n",
       "333     Gentoo     Biscoe         45.792527        15.989905   \n",
       "\n",
       "     flipper_length_mm  body_mass_g     sex  \n",
       "0           180.789994  3281.688947  FEMALE  \n",
       "1           191.754059  3455.227959  FEMALE  \n",
       "2           185.583249  3259.620334  FEMALE  \n",
       "3           189.776590  4272.197170  FEMALE  \n",
       "4           191.454097  3240.715725    MALE  \n",
       "..                 ...          ...     ...  \n",
       "329         193.280799  3428.285773  FEMALE  \n",
       "330         215.702224  4615.880702  FEMALE  \n",
       "331         185.402739  3679.191096    MALE  \n",
       "332         200.218840  4445.794970    MALE  \n",
       "333         215.756123  4789.431805    MALE  \n",
       "\n",
       "[334 rows x 7 columns], 'model': SynthCityModel(<synthcity.plugins.generic.plugin_ctgan.CTGANPlugin object at 0x00000175F1A1D240>), 'eval': None}]"
      ]
     },
     "execution_count": 31,
     "metadata": {},
     "output_type": "execute_result"
    }
   ],
   "source": [
    "# Synthesize data\n",
    "gen_count = penguins_real.shape[0]\n",
    "\n",
    "state_stack_v5.Generate(count=gen_count).Save(name=f\"{gen_method}\\stack_v5_syn.csv\", key=\"synth\")"
   ]
  },
  {
   "cell_type": "code",
   "execution_count": 34,
   "metadata": {},
   "outputs": [],
   "source": [
    "# Read synthesized data\n",
    "stack_v5_syn = pd.read_csv(f\"{gen_method}\\stack_v5_syn.csv\").round(1)\n",
    "\n",
    "# Remove first column\n",
    "stack_v5_syn = stack_v5_syn.iloc[:, 1:]"
   ]
  },
  {
   "cell_type": "markdown",
   "metadata": {},
   "source": [
    "# Generate synth data based on synth_only"
   ]
  },
  {
   "cell_type": "code",
   "execution_count": 32,
   "metadata": {},
   "outputs": [
    {
     "data": {
      "text/plain": [
       "[{'train':          species     island  culmen_length_mm  culmen_depth_mm  \\\n",
       "4483      Gentoo     Biscoe              44.9             14.5   \n",
       "7346      Adelie  Torgersen              37.7             15.5   \n",
       "5981      Adelie     Biscoe              37.2             19.8   \n",
       "25005     Adelie     Biscoe              36.3             15.1   \n",
       "1209      Gentoo      Dream              44.8             14.7   \n",
       "...          ...        ...               ...              ...   \n",
       "21909  Chinstrap      Dream              47.9             19.7   \n",
       "5724      Adelie  Torgersen              37.2             18.4   \n",
       "1194      Gentoo     Biscoe              44.4             14.8   \n",
       "16129     Adelie      Dream              37.5             18.8   \n",
       "23988     Adelie     Biscoe              37.8             19.7   \n",
       "\n",
       "       flipper_length_mm  body_mass_g     sex  \n",
       "4483               209.0       4485.4  FEMALE  \n",
       "7346               181.9       3176.6  FEMALE  \n",
       "5981               184.3       3346.1    MALE  \n",
       "25005              215.4       3410.8  FEMALE  \n",
       "1209               220.3       4637.7  FEMALE  \n",
       "...                  ...          ...     ...  \n",
       "21909              184.9       3343.2    MALE  \n",
       "5724               185.0       3144.0  FEMALE  \n",
       "1194               224.7       4355.5  FEMALE  \n",
       "16129              178.5       3052.5  FEMALE  \n",
       "23988              183.4       4216.7  FEMALE  \n",
       "\n",
       "[21108 rows x 7 columns], 'test': None, 'synth':        species  island  culmen_length_mm  culmen_depth_mm  flipper_length_mm  \\\n",
       "0       Gentoo  Biscoe         47.143309        15.528927         212.736123   \n",
       "1       Gentoo  Biscoe         45.021686        15.738452         213.229788   \n",
       "2       Gentoo  Biscoe         44.636450        14.273137         212.242450   \n",
       "3       Adelie   Dream         37.857620        19.130929         182.135621   \n",
       "4       Adelie   Dream         37.343186        19.174735         182.961248   \n",
       "..         ...     ...               ...              ...                ...   \n",
       "329  Chinstrap   Dream         44.843054        18.815278         185.025622   \n",
       "330     Gentoo  Biscoe         44.808677        15.673304         209.990045   \n",
       "331  Chinstrap   Dream         47.026756        19.376381         219.775261   \n",
       "332  Chinstrap   Dream         47.483776        20.512491         215.016563   \n",
       "333     Gentoo  Biscoe         48.294875        15.668090         213.258836   \n",
       "\n",
       "     body_mass_g     sex  \n",
       "0    4656.150154  FEMALE  \n",
       "1    4417.378570  FEMALE  \n",
       "2    4209.288146  FEMALE  \n",
       "3    3282.661473  FEMALE  \n",
       "4    3135.027036  FEMALE  \n",
       "..           ...     ...  \n",
       "329  3264.051821  FEMALE  \n",
       "330  4421.621384  FEMALE  \n",
       "331  3511.013426  FEMALE  \n",
       "332  3532.535964    MALE  \n",
       "333  4710.195558    MALE  \n",
       "\n",
       "[334 rows x 7 columns], 'model': SynthCityModel(<synthcity.plugins.generic.plugin_ctgan.CTGANPlugin object at 0x00000175F6CAFA30>), 'eval': None}]"
      ]
     },
     "execution_count": 32,
     "metadata": {},
     "output_type": "execute_result"
    }
   ],
   "source": [
    "# Synthesize data\n",
    "gen_count = penguins_real.shape[0]\n",
    "\n",
    "state_stack_synth_only.Generate(count=gen_count).Save(name=f\"{gen_method}\\stack_synth_only_syn.csv\", key=\"synth\")"
   ]
  },
  {
   "cell_type": "code",
   "execution_count": 36,
   "metadata": {},
   "outputs": [],
   "source": [
    "# Read synthesized data\n",
    "stack_synth_only_syn = pd.read_csv(f\"{gen_method}\\stack_synth_only_syn.csv\").round(1)\n",
    "\n",
    "# Remove first column\n",
    "stack_synth_only_syn = stack_synth_only_syn.iloc[:, 1:]"
   ]
  }
 ],
 "metadata": {
  "kernelspec": {
   "display_name": "Python 3",
   "language": "python",
   "name": "python3"
  },
  "language_info": {
   "codemirror_mode": {
    "name": "ipython",
    "version": 3
   },
   "file_extension": ".py",
   "mimetype": "text/x-python",
   "name": "python",
   "nbconvert_exporter": "python",
   "pygments_lexer": "ipython3",
   "version": "3.10.11"
  }
 },
 "nbformat": 4,
 "nbformat_minor": 2
}
